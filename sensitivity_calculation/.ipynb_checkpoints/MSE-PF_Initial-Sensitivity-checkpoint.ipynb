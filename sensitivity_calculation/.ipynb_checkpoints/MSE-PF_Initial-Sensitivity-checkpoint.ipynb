{
 "cells": [
  {
   "cell_type": "markdown",
   "id": "122fd07a",
   "metadata": {},
   "source": [
    "# MSE Pathfinder Sensitivity Calculations: Initial Version\n",
    "### Initial Comments \n",
    "- Employ tabular spreadsheet from S. Barden\n",
    "- Generate associated visualizations\n",
    "- Table of Requisite Quantities \n",
    "- To be documented further and place in some sort of conf/params py file "
   ]
  },
  {
   "cell_type": "markdown",
   "id": "44f36c58",
   "metadata": {},
   "source": [
    "### Import Necessary Python Packages/Libraries and Set Options"
   ]
  },
  {
   "cell_type": "code",
   "execution_count": 33,
   "id": "74399bee",
   "metadata": {},
   "outputs": [],
   "source": [
    "import pandas as pd\n",
    "#import pint # pandas utility to add units\n",
    "pd.set_option(\"display.max.columns\", None)\n",
    "import numpy as np\n",
    "import matplotlib.pyplot as plt \n",
    "from matplotlib.pyplot import cm\n",
    "#for plotting display purposes in jupyter notebook\n",
    "%matplotlib inline  \n",
    "#import physical constants; astropy also has a constants module \n",
    "import scipy.constants as const "
   ]
  },
  {
   "cell_type": "markdown",
   "id": "f35ac7bf",
   "metadata": {},
   "source": [
    "### Set Pathfinder Instrument Specifications"
   ]
  },
  {
   "cell_type": "code",
   "execution_count": 36,
   "id": "362e3fad",
   "metadata": {},
   "outputs": [],
   "source": [
    "d_fib         = 1.0   # fiber diameter of 1.0 arsec\n",
    "resol_spec    = 6000  # spectral resolution\n",
    "area_cfht     = 80216 # prime focus collecting area; equivalent unobstructed aperture\n",
    "c_ang         = const.c*1e10 #speed of light in Angstroms"
   ]
  },
  {
   "cell_type": "markdown",
   "id": "30f3bdb3",
   "metadata": {},
   "source": [
    "### Set Wavelength, Target, Sky, and Exposure Specifications"
   ]
  },
  {
   "cell_type": "code",
   "execution_count": 35,
   "id": "0c353929",
   "metadata": {},
   "outputs": [],
   "source": [
    "wlength       = 550   # wavlength [nm]\n",
    "mag_targ      = 21    # target AB magnitude\n",
    "mag_sky       = 20.7  # sky AB magnitude\n",
    "t_exp         = 3600  # 1-hour integration period"
   ]
  },
  {
   "cell_type": "code",
   "execution_count": 29,
   "id": "446a995a",
   "metadata": {},
   "outputs": [
    {
     "data": {
      "text/plain": [
       "3.6117196585092e-12"
      ]
     },
     "execution_count": 29,
     "metadata": {},
     "output_type": "execute_result"
    }
   ],
   "source": [
    "# First Calculation Set; employ cgs units and Angstroms\n",
    "delta_wlength       = wlength*10/resol_spec \n",
    "energy_wlength_phot = 6.626070e-27*c_ang/(10*wlength) # [ergs/photon]"
   ]
  },
  {
   "cell_type": "code",
   "execution_count": null,
   "id": "9cd893ec",
   "metadata": {},
   "outputs": [],
   "source": []
  }
 ],
 "metadata": {
  "kernelspec": {
   "display_name": "Python 3 (ipykernel)",
   "language": "python",
   "name": "python3"
  },
  "language_info": {
   "codemirror_mode": {
    "name": "ipython",
    "version": 3
   },
   "file_extension": ".py",
   "mimetype": "text/x-python",
   "name": "python",
   "nbconvert_exporter": "python",
   "pygments_lexer": "ipython3",
   "version": "3.9.12"
  }
 },
 "nbformat": 4,
 "nbformat_minor": 5
}
