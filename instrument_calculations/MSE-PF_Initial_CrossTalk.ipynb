{
 "cells": [
  {
   "cell_type": "markdown",
   "id": "8ce97320",
   "metadata": {},
   "source": [
    "# Fiber Population of the Slithead and Cross Talk Considerations\n",
    "\n",
    "For the MSE-Pathfinder Instrument with the (potential) IFU and MOS configurations, consideration of the fiber population of the slit head is a high priority task.  If the fiber spacing is decreased, then the number of fibers allocated to a single detector can be increased.  Additionally, the number of spatial elements (spaxels) can be increased as well as ultimately the total survey area.  However, the decrease in fiber spacing is likely accompanied by an increase in the cross-talk between neighboring fibers."
   ]
  },
  {
   "cell_type": "markdown",
   "id": "f3a88cee",
   "metadata": {},
   "source": [
    "## Formalism\n",
    "The cross-talk term is labled as $CT$ while the reduction of cross-talk (as done by fiber profile fitting) is labeled as $CF$, the \"correction factor\".  The most likely cross-talk scenario involves a bright star that substantially \"contaminates\" the nearby fibers on the detector. The level of contamination as seen by fiber $j$ as originating from fiber $i$ is given as follows: \n"
   ]
  },
  {
   "cell_type": "markdown",
   "id": "69132025",
   "metadata": {},
   "source": [
    "$$ C_{i,j}= \\frac{F_{i}(\\frac{CT_{i,j}}{CF})}{F_{j}} $$"
   ]
  },
  {
   "cell_type": "markdown",
   "id": "5d485553",
   "metadata": {},
   "source": [
    "where $F_{i}, F_{j}$ represent the flux incident upon the fibers $i, j$ respectively. "
   ]
  },
  {
   "cell_type": "markdown",
   "id": "591cdea7",
   "metadata": {},
   "source": [
    "A requirement can be set on the maximum level of allowed that is a function of the (uncorrected) cross-talk, the correction factor, and the allowed contamination.  As a function of magnitude, that "
   ]
  },
  {
   "cell_type": "code",
   "execution_count": null,
   "id": "57645b6a",
   "metadata": {},
   "outputs": [],
   "source": []
  },
  {
   "cell_type": "code",
   "execution_count": null,
   "id": "b499c7c7",
   "metadata": {},
   "outputs": [],
   "source": []
  },
  {
   "cell_type": "code",
   "execution_count": null,
   "id": "b1f09bd5",
   "metadata": {},
   "outputs": [],
   "source": []
  },
  {
   "cell_type": "code",
   "execution_count": null,
   "id": "c3da9ed9",
   "metadata": {},
   "outputs": [],
   "source": []
  },
  {
   "cell_type": "code",
   "execution_count": null,
   "id": "74860f4a",
   "metadata": {},
   "outputs": [],
   "source": []
  },
  {
   "cell_type": "code",
   "execution_count": null,
   "id": "1860da9a",
   "metadata": {},
   "outputs": [],
   "source": []
  },
  {
   "cell_type": "markdown",
   "id": "14ae2299",
   "metadata": {},
   "source": [
    "(note: cross talk can be corrected in data reduction by simultaneously fitting the spatial profiles of different fibers at fixed column or wavelength...)"
   ]
  },
  {
   "cell_type": "markdown",
   "id": "ff928e53",
   "metadata": {},
   "source": [
    "[^1]: Ref"
   ]
  },
  {
   "cell_type": "code",
   "execution_count": null,
   "id": "76149b4e",
   "metadata": {},
   "outputs": [],
   "source": []
  }
 ],
 "metadata": {
  "kernelspec": {
   "display_name": "Python 3 (ipykernel)",
   "language": "python",
   "name": "python3"
  },
  "language_info": {
   "codemirror_mode": {
    "name": "ipython",
    "version": 3
   },
   "file_extension": ".py",
   "mimetype": "text/x-python",
   "name": "python",
   "nbconvert_exporter": "python",
   "pygments_lexer": "ipython3",
   "version": "3.9.17"
  }
 },
 "nbformat": 4,
 "nbformat_minor": 5
}
