{
 "cells": [
  {
   "cell_type": "markdown",
   "id": "e9be7162",
   "metadata": {},
   "source": [
    "# Fiber Population of the Slithead and Cross Talk Considerations\n",
    "\n",
    "For the MSE-Pathfinder Instrument, population of the slit head is a high priority consideration.  \n",
    "\n",
    "(Pro) If the spacing between fibers is decreased, then number of fibers that are allocated on a single detector can be increased.  Consequently, the number of spaxels is increased as well as the total survey area.\n",
    "\n",
    "(Con) The decrease in fiber spacing is accompanied by an increase in the cross talk between neighboring fibers."
   ]
  },
  {
   "cell_type": "markdown",
   "id": "8b59a19f",
   "metadata": {},
   "source": [
    "## Initial Pathfinder IFU Specifications"
   ]
  },
  {
   "cell_type": "code",
   "execution_count": null,
   "id": "aab74279",
   "metadata": {},
   "outputs": [],
   "source": []
  },
  {
   "cell_type": "code",
   "execution_count": null,
   "id": "dca197d3",
   "metadata": {},
   "outputs": [],
   "source": []
  },
  {
   "cell_type": "code",
   "execution_count": null,
   "id": "65567a79",
   "metadata": {},
   "outputs": [],
   "source": []
  },
  {
   "cell_type": "code",
   "execution_count": null,
   "id": "ad293645",
   "metadata": {},
   "outputs": [],
   "source": []
  },
  {
   "cell_type": "code",
   "execution_count": null,
   "id": "dd5e28e5",
   "metadata": {},
   "outputs": [],
   "source": []
  },
  {
   "cell_type": "code",
   "execution_count": null,
   "id": "eb2962f7",
   "metadata": {},
   "outputs": [],
   "source": []
  },
  {
   "cell_type": "code",
   "execution_count": null,
   "id": "4acf14b4",
   "metadata": {},
   "outputs": [],
   "source": []
  },
  {
   "cell_type": "code",
   "execution_count": null,
   "id": "f02ceb10",
   "metadata": {},
   "outputs": [],
   "source": []
  },
  {
   "cell_type": "code",
   "execution_count": null,
   "id": "410fb29b",
   "metadata": {},
   "outputs": [],
   "source": []
  },
  {
   "cell_type": "code",
   "execution_count": null,
   "id": "4173c1ab",
   "metadata": {},
   "outputs": [],
   "source": []
  },
  {
   "cell_type": "markdown",
   "id": "9ff14ce6",
   "metadata": {},
   "source": [
    "(note: cross talk can be corrected in data reduction by simultaneously fitting the spatial profiles of different fibers at fixed column or wavelength...)"
   ]
  },
  {
   "cell_type": "code",
   "execution_count": null,
   "id": "8b08e3d4",
   "metadata": {},
   "outputs": [],
   "source": []
  }
 ],
 "metadata": {
  "kernelspec": {
   "display_name": "Python 3 (ipykernel)",
   "language": "python",
   "name": "python3"
  },
  "language_info": {
   "codemirror_mode": {
    "name": "ipython",
    "version": 3
   },
   "file_extension": ".py",
   "mimetype": "text/x-python",
   "name": "python",
   "nbconvert_exporter": "python",
   "pygments_lexer": "ipython3",
   "version": "3.9.17"
  }
 },
 "nbformat": 4,
 "nbformat_minor": 5
}
