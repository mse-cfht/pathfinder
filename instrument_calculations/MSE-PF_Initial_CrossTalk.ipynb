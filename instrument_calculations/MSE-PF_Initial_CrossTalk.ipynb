{
 "cells": [
  {
   "cell_type": "markdown",
   "id": "a4ee8f81",
   "metadata": {},
   "source": [
    "# Fiber Population of the Slithead and Cross Talk Considerations\n",
    "\n",
    "For the MSE-Pathfinder Instrument with the (potential) IFU and MOS configurations, consideration of the fiber population of the slit head is a high priority task.  If the fiber spacing is decreased, then the number of fibers allocated to a single detector can be increased.  Additionally, the number of spatial elements (spaxels) can be increased as well as ultimately the total survey area.  However, the decrease in fiber spacing is likely accompanied by an increase in the cross-talk between neighboring fibers."
   ]
  },
  {
   "cell_type": "markdown",
   "id": "8cc39c40",
   "metadata": {},
   "source": [
    "## Instrument Specifications\n",
    "\n",
    "### LVM\n",
    "\n",
    "\n",
    "### DESI"
   ]
  },
  {
   "cell_type": "markdown",
   "id": "ca10c6b6",
   "metadata": {},
   "source": [
    "## Formalism\n",
    "The crosstalk term is labled as $CT$ while the reduction of crosstalk (as done by fiber profile fitting) is labeled as $CF$, the \"correction factor\".  The most likely cross-talk scenario involves a bright star that substantially \"contaminates\" the nearby fibers on the detector. The level of contamination as seen by fiber $j$ as originating from fiber $i$ is given as follows: \n"
   ]
  },
  {
   "cell_type": "markdown",
   "id": "ce26c0a0",
   "metadata": {},
   "source": [
    "$$ C_{i,j}= \\frac{F_{i}(\\frac{CT_{i,j}}{CF})}{F_{j}} $$"
   ]
  },
  {
   "cell_type": "markdown",
   "id": "51b762f0",
   "metadata": {},
   "source": [
    "where $F_{i}, F_{j}$ represent the flux incident upon the fibers $i, j$ respectively. "
   ]
  },
  {
   "cell_type": "markdown",
   "id": "659a4184",
   "metadata": {},
   "source": [
    "A requirement on the maximum level of allowed contamination can be set that is a function of the (initial) crosstalk, the correction factor, and the allowed contamination.  As a function of magnitude, that "
   ]
  },
  {
   "cell_type": "code",
   "execution_count": null,
   "id": "f5ba69d6",
   "metadata": {},
   "outputs": [],
   "source": []
  },
  {
   "cell_type": "code",
   "execution_count": null,
   "id": "5c28b92e",
   "metadata": {},
   "outputs": [],
   "source": []
  },
  {
   "cell_type": "code",
   "execution_count": null,
   "id": "d4466ed1",
   "metadata": {},
   "outputs": [],
   "source": []
  },
  {
   "cell_type": "code",
   "execution_count": null,
   "id": "fbb77ca3",
   "metadata": {},
   "outputs": [],
   "source": []
  },
  {
   "cell_type": "code",
   "execution_count": null,
   "id": "5339eb13",
   "metadata": {},
   "outputs": [],
   "source": []
  },
  {
   "cell_type": "code",
   "execution_count": null,
   "id": "949b6cf1",
   "metadata": {},
   "outputs": [],
   "source": []
  },
  {
   "cell_type": "markdown",
   "id": "f51f36d5",
   "metadata": {},
   "source": [
    "(note: cross talk can be corrected in data reduction by simultaneously fitting the spatial profiles of different fibers at fixed column or wavelength...)"
   ]
  },
  {
   "cell_type": "markdown",
   "id": "b8fc7236",
   "metadata": {},
   "source": [
    "[^1]: Ref"
   ]
  },
  {
   "cell_type": "code",
   "execution_count": null,
   "id": "8c5ed48e",
   "metadata": {},
   "outputs": [],
   "source": []
  }
 ],
 "metadata": {
  "kernelspec": {
   "display_name": "Python 3 (ipykernel)",
   "language": "python",
   "name": "python3"
  },
  "language_info": {
   "codemirror_mode": {
    "name": "ipython",
    "version": 3
   },
   "file_extension": ".py",
   "mimetype": "text/x-python",
   "name": "python",
   "nbconvert_exporter": "python",
   "pygments_lexer": "ipython3",
   "version": "3.9.17"
  }
 },
 "nbformat": 4,
 "nbformat_minor": 5
}
