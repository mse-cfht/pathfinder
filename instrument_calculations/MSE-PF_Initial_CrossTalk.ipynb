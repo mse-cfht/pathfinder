{
 "cells": [
  {
   "cell_type": "markdown",
   "id": "030d24cf",
   "metadata": {},
   "source": [
    "# Fiber Population of the Slithead and Cross Talk Considerations\n",
    "\n",
    "Consideration of the number of fibers on the slit must occur.  The MOS operational mode of the Pathfinder is discarded for the moment and only the IFU mode is taken into consideration.  \n",
    "\n",
    "(Pro) If the spacing between fibers is decreased, then number of fibers that are allocated on a single detector can be increased.  Consequently, the number of spaxels is increased as well as the total survey area.\n",
    "\n",
    "(Con) The decrease in fiber spacing is accompanied by an increase in the cross talk between neighboring fibers.\n",
    "\n",
    "\n",
    "\n",
    "(nocross-talk can be corrected for by simultaneously fitting the spatial profiles of different fibers at fixed column or wavelength"
   ]
  },
  {
   "cell_type": "code",
   "execution_count": null,
   "id": "b21ac353",
   "metadata": {},
   "outputs": [],
   "source": []
  }
 ],
 "metadata": {
  "kernelspec": {
   "display_name": "Python 3 (ipykernel)",
   "language": "python",
   "name": "python3"
  },
  "language_info": {
   "codemirror_mode": {
    "name": "ipython",
    "version": 3
   },
   "file_extension": ".py",
   "mimetype": "text/x-python",
   "name": "python",
   "nbconvert_exporter": "python",
   "pygments_lexer": "ipython3",
   "version": "3.9.17"
  }
 },
 "nbformat": 4,
 "nbformat_minor": 5
}
