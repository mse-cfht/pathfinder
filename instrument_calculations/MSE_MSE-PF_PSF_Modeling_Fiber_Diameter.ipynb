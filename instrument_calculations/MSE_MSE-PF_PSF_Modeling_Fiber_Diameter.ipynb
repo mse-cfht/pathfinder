{
 "cells": [
  {
   "attachments": {},
   "cell_type": "markdown",
   "id": "3a299478",
   "metadata": {},
   "source": [
    "# Prior PSF Modeling Efforts for MSE\n",
    "The initial effort to model the PSF for the proposed MSE instrument and in attendant fashion perform the fiber diameter optimization was done by A. McConnachie and others in 2014 and 2015.  The analysis employed information from the studies of R. Racine and J.-C. Cullaindre as well as the IMAKA Feasibility Report.  In addition, data from the MegaCam/MegaPrime instrument was utilized.   "
   ]
  },
  {
   "cell_type": "markdown",
   "id": "61f3e136",
   "metadata": {},
   "source": [
    "## PSF Formalism\n",
    "\n",
    "The point spread function (PSF) expresses the normalized intensity distribution of the point source image. The astronomical seeing/atmospheric turbulence dominate the PSF for ground-based telescopes. "
   ]
  },
  {
   "cell_type": "markdown",
   "id": "6f34f856",
   "metadata": {},
   "source": [
    "### Gaussian Approximation\n",
    "In traditional analyses, the PSF of ground-based images has been approximated by a Gaussian function, which may be written in a general fashion as follows: "
   ]
  },
  {
   "cell_type": "markdown",
   "id": "13745352",
   "metadata": {},
   "source": [
    "$$ f(r) = a [ e^{-(x-\\mu)^2/2\\sigma^2}] + d $$"
   ]
  },
  {
   "cell_type": "markdown",
   "id": "cb0f9d29",
   "metadata": {},
   "source": [
    "where $\\mu$ and $d$ are constrained by the pre-defined line center/line profile and $a$ is determined via normalization.  The full width half maximum (FWHM) of this Guassian function may then be defined as:   "
   ]
  },
  {
   "cell_type": "markdown",
   "id": "35ca69b8",
   "metadata": {},
   "source": [
    "$$ FWHM_{G} = 2 \\sqrt{2\\ln2}\\sigma $$"
   ]
  },
  {
   "cell_type": "markdown",
   "id": "96b4dd1d",
   "metadata": {},
   "source": [
    "### Moffat Approximation"
   ]
  },
  {
   "cell_type": "markdown",
   "id": "bb5a8e3e",
   "metadata": {},
   "source": [
    "The Moffat approximation of the PSF (Moffat 1969) seems to possess two advantages over the Gaussian approximation:\n",
    "1. it is numerically well-behaved in the treatment of narrow PSF's\n",
    "2. it allows the wings that usually appear in stellar profiles to be fitted\n",
    "\n",
    "The Moffat approximation appears to well-describe the PSF of the focal plane (incident upon the fibers) and assumes the following functional form:"
   ]
  },
  {
   "cell_type": "markdown",
   "id": "a9dd09ef",
   "metadata": {},
   "source": [
    "$$ f(r) = a [1+(r/\\alpha)^2]^{-\\beta} $$"
   ]
  },
  {
   "cell_type": "markdown",
   "id": "df7cb794",
   "metadata": {},
   "source": [
    "where a is constrained by normalization and two parameters, $\\alpha$ and $\\beta$, define the shape of the Moffat approximation.  The associated FWHM may then be written as: "
   ]
  },
  {
   "cell_type": "markdown",
   "id": "8fbdea43",
   "metadata": {},
   "source": [
    "$$ FWHM_{M} = 2\\alpha \\sqrt{2^{1/\\beta}-1}$$"
   ]
  },
  {
   "cell_type": "markdown",
   "id": "4d0fd1a7",
   "metadata": {},
   "source": [
    "The $\\alpha$ parameter may be determined with a simple rewrite of the above equation with $\\alpha=[FWHM/(2\\sqrt{2^{1/\\beta}-1})]$ and the $\\beta$ parameter set to values of 2.5 or (more likely) 3.  Note that Trujillo et al. (2021) determined that a $\\beta \\approx 4.765$ worked well for certain types of galaxy observations/measurements.  They also found that the Gaussian Function can be obtained from the Moffat Function in the limiting case where $\\beta \\rightarrow \\infty$ (and for all practical purposes a $\\beta = 100$ arrives at a Gaussian function)."
   ]
  },
  {
   "cell_type": "markdown",
   "id": "36c2b72a",
   "metadata": {},
   "source": []
  },
  {
   "cell_type": "code",
   "execution_count": null,
   "id": "465f6429",
   "metadata": {},
   "outputs": [],
   "source": []
  },
  {
   "cell_type": "code",
   "execution_count": null,
   "id": "2ad95f87",
   "metadata": {},
   "outputs": [],
   "source": []
  },
  {
   "cell_type": "code",
   "execution_count": null,
   "id": "02cb50d2",
   "metadata": {},
   "outputs": [],
   "source": []
  },
  {
   "cell_type": "code",
   "execution_count": null,
   "id": "4ea22035",
   "metadata": {},
   "outputs": [],
   "source": []
  },
  {
   "cell_type": "code",
   "execution_count": null,
   "id": "d7ce478d",
   "metadata": {},
   "outputs": [],
   "source": []
  },
  {
   "cell_type": "markdown",
   "id": "4fa82d8b",
   "metadata": {},
   "source": [
    "## References\n",
    "Trujillo, I. et al 2001, MNRAS, 328, 977 (\"The Effects of Seeing on Sersic Profiles II: The Moffat PSF\";  https://doi.org/10.1046/j.1365-8711.2001.04937.x)"
   ]
  },
  {
   "cell_type": "code",
   "execution_count": null,
   "id": "6d16204e",
   "metadata": {},
   "outputs": [],
   "source": []
  }
 ],
 "metadata": {
  "kernelspec": {
   "display_name": "Python 3 (ipykernel)",
   "language": "python",
   "name": "python3"
  },
  "language_info": {
   "codemirror_mode": {
    "name": "ipython",
    "version": 3
   },
   "file_extension": ".py",
   "mimetype": "text/x-python",
   "name": "python",
   "nbconvert_exporter": "python",
   "pygments_lexer": "ipython3",
   "version": "3.9.17"
  }
 },
 "nbformat": 4,
 "nbformat_minor": 5
}
