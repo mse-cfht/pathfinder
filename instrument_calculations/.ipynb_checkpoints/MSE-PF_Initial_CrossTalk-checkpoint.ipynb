{
 "cells": [
  {
   "cell_type": "markdown",
   "id": "1db61fc9",
   "metadata": {},
   "source": [
    "# Fiber Population of the Slithead and Cross Talk Considerations\n",
    "\n",
    "For the MSE-Pathfinder Instrument with the (potential) IFU and MOS configurations, consideration of the fiber population of the slit head is a high priority task.  If the fiber spacing is decreased, then the number of fibers allocated to a single detector can be increased.  Additionally, the number of spatial elements (spaxels) can be increased as well as ultimately the total survey area.  However, the decrease in fiber spacing is likely accompanied by an increase in the cross-talk between neighboring fibers."
   ]
  },
  {
   "cell_type": "markdown",
   "id": "f5da2fe8",
   "metadata": {},
   "source": [
    "## Instrument Specifications\n",
    "\n",
    "### LVM\n",
    "\n",
    "\n",
    "### DESI"
   ]
  },
  {
   "cell_type": "markdown",
   "id": "d2d65123",
   "metadata": {},
   "source": [
    "## Formalism\n",
    "The crosstalk term is labled as $CT$ while the reduction of crosstalk (as done by fiber profile fitting) is labeled as $CF$, the \"correction factor\".  The most likely cross-talk scenario involves a bright star that substantially \"contaminates\" the nearby fibers on the detector. The level of contamination as seen by fiber $j$ as originating from fiber $i$ is given as follows:"
   ]
  },
  {
   "cell_type": "code",
   "execution_count": null,
   "id": "4c77af45",
   "metadata": {},
   "outputs": [],
   "source": []
  },
  {
   "cell_type": "code",
   "execution_count": null,
   "id": "73ad2594",
   "metadata": {},
   "outputs": [],
   "source": []
  },
  {
   "cell_type": "code",
   "execution_count": null,
   "id": "7e6a5cec",
   "metadata": {},
   "outputs": [],
   "source": []
  },
  {
   "cell_type": "code",
   "execution_count": null,
   "id": "d7cb8171",
   "metadata": {},
   "outputs": [],
   "source": []
  },
  {
   "cell_type": "code",
   "execution_count": null,
   "id": "ac2368fb",
   "metadata": {},
   "outputs": [],
   "source": []
  },
  {
   "cell_type": "code",
   "execution_count": null,
   "id": "f7a9d01b",
   "metadata": {},
   "outputs": [],
   "source": []
  },
  {
   "cell_type": "code",
   "execution_count": null,
   "id": "70bff462",
   "metadata": {},
   "outputs": [],
   "source": []
  },
  {
   "cell_type": "code",
   "execution_count": null,
   "id": "1051fa37",
   "metadata": {},
   "outputs": [],
   "source": []
  },
  {
   "cell_type": "code",
   "execution_count": null,
   "id": "3d7796e8",
   "metadata": {},
   "outputs": [],
   "source": []
  },
  {
   "cell_type": "markdown",
   "id": "47e487c5",
   "metadata": {},
   "source": [
    "(note: cross talk can be corrected in data reduction by simultaneously fitting the spatial profiles of different fibers at fixed column or wavelength...)"
   ]
  },
  {
   "cell_type": "code",
   "execution_count": null,
   "id": "8e1ce863",
   "metadata": {},
   "outputs": [],
   "source": []
  }
 ],
 "metadata": {
  "kernelspec": {
   "display_name": "Python 3 (ipykernel)",
   "language": "python",
   "name": "python3"
  },
  "language_info": {
   "codemirror_mode": {
    "name": "ipython",
    "version": 3
   },
   "file_extension": ".py",
   "mimetype": "text/x-python",
   "name": "python",
   "nbconvert_exporter": "python",
   "pygments_lexer": "ipython3",
   "version": "3.9.17"
  }
 },
 "nbformat": 4,
 "nbformat_minor": 5
}
