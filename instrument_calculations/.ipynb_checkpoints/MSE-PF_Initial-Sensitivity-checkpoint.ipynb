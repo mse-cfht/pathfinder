{
 "cells": [
  {
   "cell_type": "markdown",
   "id": "bb0bce31",
   "metadata": {},
   "source": [
    "# MSE Pathfinder Sensitivity Calculations: Initial Version\n",
    "### Initial Comments \n",
    "- Employ tabular spreadsheet from S. Barden\n",
    "- Generate associated visualizations\n",
    "- Table of Requisite Quantities \n",
    "- To be documented further and place in some sort of conf/params py file "
   ]
  },
  {
   "cell_type": "markdown",
   "id": "cfffcd19",
   "metadata": {},
   "source": [
    "### Import Necessary Python Packages/Libraries and Set Options"
   ]
  },
  {
   "cell_type": "code",
   "execution_count": 33,
   "id": "59001d1e",
   "metadata": {},
   "outputs": [],
   "source": [
    "import pandas as pd\n",
    "#import pint # pandas utility to add units\n",
    "pd.set_option(\"display.max.columns\", None)\n",
    "import numpy as np\n",
    "import matplotlib.pyplot as plt \n",
    "from matplotlib.pyplot import cm\n",
    "#for plotting display purposes in jupyter notebook\n",
    "%matplotlib inline  \n",
    "#import physical constants; astropy also has a constants module \n",
    "import scipy.constants as const "
   ]
  },
  {
   "cell_type": "markdown",
   "id": "2b6e4c8a",
   "metadata": {},
   "source": [
    "### Set Pathfinder Instrument Specifications"
   ]
  },
  {
   "cell_type": "code",
   "execution_count": 36,
   "id": "a7c5e915",
   "metadata": {},
   "outputs": [],
   "source": [
    "d_fib         = 1.0   # fiber diameter of 1.0 arsec\n",
    "resol_spec    = 6000  # spectral resolution\n",
    "area_cfht     = 80216 # prime focus collecting area; equivalent unobstructed aperture\n",
    "c_ang         = const.c*1e10 #speed of light in Angstroms"
   ]
  },
  {
   "cell_type": "markdown",
   "id": "2b3d233d",
   "metadata": {},
   "source": [
    "### Set Wavelength, Target, Sky, and Exposure Specifications"
   ]
  },
  {
   "cell_type": "code",
   "execution_count": 47,
   "id": "08a7c2d7",
   "metadata": {},
   "outputs": [],
   "source": [
    "wlength       = 550   # wavlength [nm]\n",
    "mag_targ      = 20.5  # target AB magnitude\n",
    "mag_sky       = 20.7  # sky AB magnitude\n",
    "t_exp         = 3600  # 1-hour integration period"
   ]
  },
  {
   "cell_type": "code",
   "execution_count": 48,
   "id": "bba958cc",
   "metadata": {},
   "outputs": [],
   "source": [
    "# First Calculation Set; employ cgs units and Angstroms\n",
    "delta_wlength       = wlength*10/resol_spec \n",
    "energy_wlength_phot = 6.626070e-27*c_ang/(10*wlength) # [ergs/photon]"
   ]
  },
  {
   "cell_type": "code",
   "execution_count": 51,
   "id": "dde1675c",
   "metadata": {},
   "outputs": [],
   "source": [
    "# Calculate Target and Sky Flux\n",
    "flux_targ_nu  = 10**(-1*(mag_targ + 48.594)/2.5) #ABν = -2.5 log Fν -48.594 for Fν measured in ergs/cm2 s Hz\n",
    "flux_targ_ang = flux_targ*c_ang/(wlength*10)**2\n",
    "flux_targ     = energy_wlength_phot/flux_targ_ang #Photons/sec/cm2/Ang"
   ]
  },
  {
   "cell_type": "code",
   "execution_count": null,
   "id": "aec9c031",
   "metadata": {},
   "outputs": [],
   "source": []
  }
 ],
 "metadata": {
  "kernelspec": {
   "display_name": "Python 3 (ipykernel)",
   "language": "python",
   "name": "python3"
  },
  "language_info": {
   "codemirror_mode": {
    "name": "ipython",
    "version": 3
   },
   "file_extension": ".py",
   "mimetype": "text/x-python",
   "name": "python",
   "nbconvert_exporter": "python",
   "pygments_lexer": "ipython3",
   "version": "3.9.12"
  }
 },
 "nbformat": 4,
 "nbformat_minor": 5
}
